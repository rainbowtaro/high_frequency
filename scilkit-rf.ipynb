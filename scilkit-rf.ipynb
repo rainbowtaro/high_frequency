{
  "cells": [
    {
      "cell_type": "code",
      "execution_count": null,
      "metadata": {
        "id": "jtynSyKTH43A"
      },
      "outputs": [],
      "source": [
        "print(\"Hello world\")"
      ]
    },
    {
      "cell_type": "code",
      "source": [
        "import zipfile\n",
        "import os\n",
        "\n",
        "with zipfile.ZipFile(\"/emap_v1-main.zip\", 'r') as zip_ref:\n",
        "    zip_ref.extractall(\"/content/my_flask_project\")\n",
        "\n",
        "os.chdir(\"/content/my_flask_project/emap_v1-main\")  # 作業ディレクトリを変更\n"
      ],
      "metadata": {
        "id": "02ageHC5Jevl"
      },
      "execution_count": 13,
      "outputs": []
    },
    {
      "cell_type": "code",
      "source": [
        "!pip install -e ."
      ],
      "metadata": {
        "id": "37X_MdOkKocp",
        "outputId": "ca721501-c7bb-4061-a978-7591a1ee221b",
        "colab": {
          "base_uri": "https://localhost:8080/"
        }
      },
      "execution_count": 14,
      "outputs": [
        {
          "output_type": "stream",
          "name": "stdout",
          "text": [
            "Obtaining file:///content/my_flask_project/emap_v1-main\n",
            "  Installing build dependencies ... \u001b[?25l\u001b[?25hdone\n",
            "  Checking if build backend supports build_editable ... \u001b[?25l\u001b[?25hdone\n",
            "  Getting requirements to build editable ... \u001b[?25l\u001b[?25hdone\n",
            "  Preparing editable metadata (pyproject.toml) ... \u001b[?25l\u001b[?25hdone\n",
            "Requirement already satisfied: flask in /usr/local/lib/python3.10/dist-packages (from flaskr==1.0.0) (3.1.0)\n",
            "Requirement already satisfied: Werkzeug>=3.1 in /usr/local/lib/python3.10/dist-packages (from flask->flaskr==1.0.0) (3.1.3)\n",
            "Requirement already satisfied: Jinja2>=3.1.2 in /usr/local/lib/python3.10/dist-packages (from flask->flaskr==1.0.0) (3.1.4)\n",
            "Requirement already satisfied: itsdangerous>=2.2 in /usr/local/lib/python3.10/dist-packages (from flask->flaskr==1.0.0) (2.2.0)\n",
            "Requirement already satisfied: click>=8.1.3 in /usr/local/lib/python3.10/dist-packages (from flask->flaskr==1.0.0) (8.1.7)\n",
            "Requirement already satisfied: blinker>=1.9 in /usr/local/lib/python3.10/dist-packages (from flask->flaskr==1.0.0) (1.9.0)\n",
            "Requirement already satisfied: MarkupSafe>=2.0 in /usr/local/lib/python3.10/dist-packages (from Jinja2>=3.1.2->flask->flaskr==1.0.0) (3.0.2)\n",
            "Building wheels for collected packages: flaskr\n",
            "  Building editable for flaskr (pyproject.toml) ... \u001b[?25l\u001b[?25hdone\n",
            "  Created wheel for flaskr: filename=flaskr-1.0.0-py2.py3-none-any.whl size=2561 sha256=b4a1965546868b552358f1c063a8459f4e93689cba2023e6179db41f59a795ba\n",
            "  Stored in directory: /tmp/pip-ephem-wheel-cache-s8vjvmv4/wheels/38/50/23/58187c51c4ee2062678f4af8a9791fa953fee43ca6c3ccacd5\n",
            "Successfully built flaskr\n",
            "Installing collected packages: flaskr\n",
            "Successfully installed flaskr-1.0.0\n"
          ]
        }
      ]
    },
    {
      "cell_type": "code",
      "source": [
        "!pip install flask flask-ngrok\n",
        "!pip install weasyprint\n",
        "!pip install pyngrok\n"
      ],
      "metadata": {
        "id": "OUJ8tN0tNSdu",
        "outputId": "e3e836ea-4489-4825-b18c-a2ad8be316a2",
        "colab": {
          "base_uri": "https://localhost:8080/"
        }
      },
      "execution_count": 35,
      "outputs": [
        {
          "output_type": "stream",
          "name": "stdout",
          "text": [
            "Requirement already satisfied: flask in /usr/local/lib/python3.10/dist-packages (3.1.0)\n",
            "Requirement already satisfied: flask-ngrok in /usr/local/lib/python3.10/dist-packages (0.0.25)\n",
            "Requirement already satisfied: Werkzeug>=3.1 in /usr/local/lib/python3.10/dist-packages (from flask) (3.1.3)\n",
            "Requirement already satisfied: Jinja2>=3.1.2 in /usr/local/lib/python3.10/dist-packages (from flask) (3.1.4)\n",
            "Requirement already satisfied: itsdangerous>=2.2 in /usr/local/lib/python3.10/dist-packages (from flask) (2.2.0)\n",
            "Requirement already satisfied: click>=8.1.3 in /usr/local/lib/python3.10/dist-packages (from flask) (8.1.7)\n",
            "Requirement already satisfied: blinker>=1.9 in /usr/local/lib/python3.10/dist-packages (from flask) (1.9.0)\n",
            "Requirement already satisfied: requests in /usr/local/lib/python3.10/dist-packages (from flask-ngrok) (2.32.3)\n",
            "Requirement already satisfied: MarkupSafe>=2.0 in /usr/local/lib/python3.10/dist-packages (from Jinja2>=3.1.2->flask) (3.0.2)\n",
            "Requirement already satisfied: charset-normalizer<4,>=2 in /usr/local/lib/python3.10/dist-packages (from requests->flask-ngrok) (3.4.0)\n",
            "Requirement already satisfied: idna<4,>=2.5 in /usr/local/lib/python3.10/dist-packages (from requests->flask-ngrok) (3.10)\n",
            "Requirement already satisfied: urllib3<3,>=1.21.1 in /usr/local/lib/python3.10/dist-packages (from requests->flask-ngrok) (2.2.3)\n",
            "Requirement already satisfied: certifi>=2017.4.17 in /usr/local/lib/python3.10/dist-packages (from requests->flask-ngrok) (2024.12.14)\n",
            "Requirement already satisfied: weasyprint in /usr/local/lib/python3.10/dist-packages (63.1)\n",
            "Requirement already satisfied: pydyf>=0.11.0 in /usr/local/lib/python3.10/dist-packages (from weasyprint) (0.11.0)\n",
            "Requirement already satisfied: cffi>=0.6 in /usr/local/lib/python3.10/dist-packages (from weasyprint) (1.17.1)\n",
            "Requirement already satisfied: tinyhtml5>=2.0.0b1 in /usr/local/lib/python3.10/dist-packages (from weasyprint) (2.0.0)\n",
            "Requirement already satisfied: tinycss2>=1.4.0 in /usr/local/lib/python3.10/dist-packages (from weasyprint) (1.4.0)\n",
            "Requirement already satisfied: cssselect2>=0.1 in /usr/local/lib/python3.10/dist-packages (from weasyprint) (0.7.0)\n",
            "Requirement already satisfied: Pyphen>=0.9.1 in /usr/local/lib/python3.10/dist-packages (from weasyprint) (0.17.0)\n",
            "Requirement already satisfied: Pillow>=9.1.0 in /usr/local/lib/python3.10/dist-packages (from weasyprint) (11.0.0)\n",
            "Requirement already satisfied: fonttools>=4.0.0 in /usr/local/lib/python3.10/dist-packages (from fonttools[woff]>=4.0.0->weasyprint) (4.55.3)\n",
            "Requirement already satisfied: pycparser in /usr/local/lib/python3.10/dist-packages (from cffi>=0.6->weasyprint) (2.22)\n",
            "Requirement already satisfied: webencodings in /usr/local/lib/python3.10/dist-packages (from cssselect2>=0.1->weasyprint) (0.5.1)\n",
            "Requirement already satisfied: brotli>=1.0.1 in /usr/local/lib/python3.10/dist-packages (from fonttools[woff]>=4.0.0->weasyprint) (1.1.0)\n",
            "Requirement already satisfied: zopfli>=0.1.4 in /usr/local/lib/python3.10/dist-packages (from fonttools[woff]>=4.0.0->weasyprint) (0.2.3.post1)\n",
            "Collecting pyngrok\n",
            "  Downloading pyngrok-7.2.2-py3-none-any.whl.metadata (8.4 kB)\n",
            "Requirement already satisfied: PyYAML>=5.1 in /usr/local/lib/python3.10/dist-packages (from pyngrok) (6.0.2)\n",
            "Downloading pyngrok-7.2.2-py3-none-any.whl (22 kB)\n",
            "Installing collected packages: pyngrok\n",
            "Successfully installed pyngrok-7.2.2\n"
          ]
        }
      ]
    },
    {
      "cell_type": "code",
      "source": [
        "ngrok authtoken 1dcBqVaPhNEiGZGVgVhqKFVJSge_34F4UkSPdC8TAzjrXKUkq"
      ],
      "metadata": {
        "id": "gnFMHZZzc9d8",
        "outputId": "33cd0916-c71b-4735-8189-ac235f61c170",
        "colab": {
          "base_uri": "https://localhost:8080/",
          "height": 106
        }
      },
      "execution_count": 42,
      "outputs": [
        {
          "output_type": "error",
          "ename": "SyntaxError",
          "evalue": "invalid decimal literal (<ipython-input-42-5ab067a3b6c8>, line 1)",
          "traceback": [
            "\u001b[0;36m  File \u001b[0;32m\"<ipython-input-42-5ab067a3b6c8>\"\u001b[0;36m, line \u001b[0;32m1\u001b[0m\n\u001b[0;31m    ngrok authtoken 1dcBqVaPhNEiGZGVgVhqKFVJSge_34F4UkSPdC8TAzjrXKUkq\u001b[0m\n\u001b[0m                    ^\u001b[0m\n\u001b[0;31mSyntaxError\u001b[0m\u001b[0;31m:\u001b[0m invalid decimal literal\n"
          ]
        }
      ]
    },
    {
      "cell_type": "code",
      "source": [
        "!flask --app flaskr init-db\n",
        "!python -m flaskr"
      ],
      "metadata": {
        "id": "FGmIDDXINalW",
        "outputId": "cd22c816-9add-4ab9-b3a4-057ea06c40b1",
        "colab": {
          "base_uri": "https://localhost:8080/"
        }
      },
      "execution_count": 41,
      "outputs": [
        {
          "output_type": "stream",
          "name": "stdout",
          "text": [
            "t=2025-01-08T10:26:24+0000 lvl=eror msg=\"failed to reconnect session\" obj=tunnels.session err=\"authentication failed: Usage of ngrok requires a verified account and authtoken.\\n\\nSign up for an account: https://dashboard.ngrok.com/signup\\nInstall your authtoken: https://dashboard.ngrok.com/get-started/your-authtoken\\r\\n\\r\\nERR_NGROK_4018\\r\\n\"\n",
            "\n",
            "ERROR:  authentication failed: Usage of ngrok requires a verified account and authtoken.\n",
            "ERROR:  \n",
            "ERROR:  Sign up for an account: https://dashboard.ngrok.com/signup\n",
            "ERROR:  Install your authtoken: https://dashboard.ngrok.com/get-started/your-authtoken\r\n",
            "ERROR:  \r\n",
            "ERROR:  ERR_NGROK_4018\r\n",
            "ERROR:  https://ngrok.com/docs/errors/err_ngrok_4018\r\n",
            "ERROR:  \n",
            "t=2025-01-08T10:26:24+0000 lvl=eror msg=\"session closing\" obj=tunnels.session err=\"authentication failed: Usage of ngrok requires a verified account and authtoken.\\n\\nSign up for an account: https://dashboard.ngrok.com/signup\\nInstall your authtoken: https://dashboard.ngrok.com/get-started/your-authtoken\\r\\n\\r\\nERR_NGROK_4018\\r\\n\"\n",
            "t=2025-01-08T10:26:24+0000 lvl=eror msg=\"terminating with error\" obj=app err=\"authentication failed: Usage of ngrok requires a verified account and authtoken.\\n\\nSign up for an account: https://dashboard.ngrok.com/signup\\nInstall your authtoken: https://dashboard.ngrok.com/get-started/your-authtoken\\r\\n\\r\\nERR_NGROK_4018\\r\\n\"\n",
            "t=2025-01-08T10:26:24+0000 lvl=crit msg=\"command failed\" err=\"authentication failed: Usage of ngrok requires a verified account and authtoken.\\n\\nSign up for an account: https://dashboard.ngrok.com/signup\\nInstall your authtoken: https://dashboard.ngrok.com/get-started/your-authtoken\\r\\n\\r\\nERR_NGROK_4018\\r\\n\"\n",
            "Traceback (most recent call last):\n",
            "  File \"/usr/local/bin/flask\", line 8, in <module>\n",
            "    sys.exit(main())\n",
            "  File \"/usr/local/lib/python3.10/dist-packages/flask/cli.py\", line 1129, in main\n",
            "    cli.main()\n",
            "  File \"/usr/local/lib/python3.10/dist-packages/click/core.py\", line 1078, in main\n",
            "    rv = self.invoke(ctx)\n",
            "  File \"/usr/local/lib/python3.10/dist-packages/click/core.py\", line 1682, in invoke\n",
            "    cmd_name, cmd, args = self.resolve_command(ctx, args)\n",
            "  File \"/usr/local/lib/python3.10/dist-packages/click/core.py\", line 1729, in resolve_command\n",
            "    cmd = self.get_command(ctx, cmd_name)\n",
            "  File \"/usr/local/lib/python3.10/dist-packages/flask/cli.py\", line 631, in get_command\n",
            "    app = info.load_app()\n",
            "  File \"/usr/local/lib/python3.10/dist-packages/flask/cli.py\", line 349, in load_app\n",
            "    app = locate_app(import_name, name)\n",
            "  File \"/usr/local/lib/python3.10/dist-packages/flask/cli.py\", line 245, in locate_app\n",
            "    __import__(module_name)\n",
            "  File \"/content/my_flask_project/emap_v1-main/flaskr/__init__.py\", line 45, in <module>\n",
            "    app = create_app()\n",
            "  File \"/content/my_flask_project/emap_v1-main/flaskr/__init__.py\", line 39, in create_app\n",
            "    public_url = ngrok.connect(5000)\n",
            "  File \"/usr/local/lib/python3.10/dist-packages/pyngrok/ngrok.py\", line 331, in connect\n",
            "    api_url = get_ngrok_process(pyngrok_config).api_url\n",
            "  File \"/usr/local/lib/python3.10/dist-packages/pyngrok/ngrok.py\", line 156, in get_ngrok_process\n",
            "    return process.get_process(pyngrok_config)\n",
            "  File \"/usr/local/lib/python3.10/dist-packages/pyngrok/process.py\", line 235, in get_process\n",
            "    return _start_process(pyngrok_config)\n",
            "  File \"/usr/local/lib/python3.10/dist-packages/pyngrok/process.py\", line 398, in _start_process\n",
            "    raise PyngrokNgrokError(f\"The ngrok process errored on start: {ngrok_process.startup_error}.\",\n",
            "pyngrok.exception.PyngrokNgrokError: The ngrok process errored on start: authentication failed: Usage of ngrok requires a verified account and authtoken.\\n\\nSign up for an account: https://dashboard.ngrok.com/signup\\nInstall your authtoken: https://dashboard.ngrok.com/get-started/your-authtoken\\r\\n\\r\\nERR_NGROK_4018\\r\\n.\n",
            "t=2025-01-08T10:26:25+0000 lvl=eror msg=\"failed to reconnect session\" obj=tunnels.session err=\"authentication failed: Usage of ngrok requires a verified account and authtoken.\\n\\nSign up for an account: https://dashboard.ngrok.com/signup\\nInstall your authtoken: https://dashboard.ngrok.com/get-started/your-authtoken\\r\\n\\r\\nERR_NGROK_4018\\r\\n\"\n",
            "t=2025-01-08T10:26:25+0000 lvl=eror msg=\"session closing\" obj=tunnels.session err=\"authentication failed: Usage of ngrok requires a verified account and authtoken.\\n\\nSign up for an account: https://dashboard.ngrok.com/signup\\nInstall your authtoken: https://dashboard.ngrok.com/get-started/your-authtoken\\r\\n\\r\\nERR_NGROK_4018\\r\\n\"\n",
            "t=2025-01-08T10:26:25+0000 lvl=eror msg=\"terminating with error\" obj=app err=\"authentication failed: Usage of ngrok requires a verified account and authtoken.\\n\\nSign up for an account: https://dashboard.ngrok.com/signup\\nInstall your authtoken: https://dashboard.ngrok.com/get-started/your-authtoken\\r\\n\\r\\nERR_NGROK_4018\\r\\n\"\n",
            "\n",
            "ERROR:  authentication failed: Usage of ngrok requires a verified account and authtoken.\n",
            "ERROR:  \n",
            "ERROR:  Sign up for an account: https://dashboard.ngrok.com/signup\n",
            "ERROR:  Install your authtoken: https://dashboard.ngrok.com/get-started/your-authtoken\n",
            "ERROR:  \n",
            "ERROR:  ERR_NGROK_4018\n",
            "ERROR:  https://ngrok.com/docs/errors/err_ngrok_4018\n",
            "ERROR:  \n",
            "t=2025-01-08T10:26:25+0000 lvl=crit msg=\"command failed\" err=\"authentication failed: Usage of ngrok requires a verified account and authtoken.\\n\\nSign up for an account: https://dashboard.ngrok.com/signup\\nInstall your authtoken: https://dashboard.ngrok.com/get-started/your-authtoken\\r\\n\\r\\nERR_NGROK_4018\\r\\n\"\n",
            "Traceback (most recent call last):\n",
            "  File \"/usr/lib/python3.10/runpy.py\", line 187, in _run_module_as_main\n",
            "    mod_name, mod_spec, code = _get_module_details(mod_name, _Error)\n",
            "  File \"/usr/lib/python3.10/runpy.py\", line 146, in _get_module_details\n",
            "    return _get_module_details(pkg_main_name, error)\n",
            "  File \"/usr/lib/python3.10/runpy.py\", line 110, in _get_module_details\n",
            "    __import__(pkg_name)\n",
            "  File \"/content/my_flask_project/emap_v1-main/flaskr/__init__.py\", line 45, in <module>\n",
            "    app = create_app()\n",
            "  File \"/content/my_flask_project/emap_v1-main/flaskr/__init__.py\", line 39, in create_app\n",
            "    public_url = ngrok.connect(5000)\n",
            "  File \"/usr/local/lib/python3.10/dist-packages/pyngrok/ngrok.py\", line 331, in connect\n",
            "    api_url = get_ngrok_process(pyngrok_config).api_url\n",
            "  File \"/usr/local/lib/python3.10/dist-packages/pyngrok/ngrok.py\", line 156, in get_ngrok_process\n",
            "    return process.get_process(pyngrok_config)\n",
            "  File \"/usr/local/lib/python3.10/dist-packages/pyngrok/process.py\", line 235, in get_process\n",
            "    return _start_process(pyngrok_config)\n",
            "  File \"/usr/local/lib/python3.10/dist-packages/pyngrok/process.py\", line 398, in _start_process\n",
            "    raise PyngrokNgrokError(f\"The ngrok process errored on start: {ngrok_process.startup_error}.\",\n",
            "pyngrok.exception.PyngrokNgrokError: The ngrok process errored on start: authentication failed: Usage of ngrok requires a verified account and authtoken.\\n\\nSign up for an account: https://dashboard.ngrok.com/signup\\nInstall your authtoken: https://dashboard.ngrok.com/get-started/your-authtoken\\r\\n\\r\\nERR_NGROK_4018\\r\\n.\n"
          ]
        }
      ]
    },
    {
      "cell_type": "code",
      "source": [
        "brew install ngrok"
      ],
      "metadata": {
        "id": "GpVO4iyZc8Gh",
        "outputId": "faa916bb-3fb8-4b65-c864-2b0bd3a53400",
        "colab": {
          "base_uri": "https://localhost:8080/",
          "height": 106
        }
      },
      "execution_count": 46,
      "outputs": [
        {
          "output_type": "error",
          "ename": "SyntaxError",
          "evalue": "invalid syntax (<ipython-input-46-5d82823a75d8>, line 1)",
          "traceback": [
            "\u001b[0;36m  File \u001b[0;32m\"<ipython-input-46-5d82823a75d8>\"\u001b[0;36m, line \u001b[0;32m1\u001b[0m\n\u001b[0;31m    brew install ngrok\u001b[0m\n\u001b[0m         ^\u001b[0m\n\u001b[0;31mSyntaxError\u001b[0m\u001b[0;31m:\u001b[0m invalid syntax\n"
          ]
        }
      ]
    },
    {
      "cell_type": "code",
      "source": [
        "!python /content/my_flask_project/emap_v1-main/flaskr/__init__.py"
      ],
      "metadata": {
        "id": "bOLSetRhRGAg",
        "outputId": "53ba703d-af58-444d-d39f-bd79027acd16",
        "colab": {
          "base_uri": "https://localhost:8080/"
        }
      },
      "execution_count": 40,
      "outputs": [
        {
          "output_type": "stream",
          "name": "stdout",
          "text": [
            "t=2025-01-08T10:19:38+0000 lvl=eror msg=\"failed to reconnect session\" obj=tunnels.session err=\"authentication failed: Usage of ngrok requires a verified account and authtoken.\\n\\nSign up for an account: https://dashboard.ngrok.com/signup\\nInstall your authtoken: https://dashboard.ngrok.com/get-started/your-authtoken\\r\\n\\r\\nERR_NGROK_4018\\r\\n\"\n",
            "\n",
            "ERROR:  authentication failed: Usage of ngrok requires a verified account and authtoken.\n",
            "ERROR:  \n",
            "ERROR:  Sign up for an account: https://dashboard.ngrok.com/signup\n",
            "ERROR:  Install your authtoken: https://dashboard.ngrok.com/get-started/your-authtoken\r\n",
            "ERROR:  \r\n",
            "ERROR:  ERR_NGROK_4018\r\n",
            "ERROR:  https://ngrok.com/docs/errors/err_ngrok_4018\r\n",
            "ERROR:  \n",
            "t=2025-01-08T10:19:38+0000 lvl=eror msg=\"session closing\" obj=tunnels.session err=\"authentication failed: Usage of ngrok requires a verified account and authtoken.\\n\\nSign up for an account: https://dashboard.ngrok.com/signup\\nInstall your authtoken: https://dashboard.ngrok.com/get-started/your-authtoken\\r\\n\\r\\nERR_NGROK_4018\\r\\n\"\n",
            "t=2025-01-08T10:19:38+0000 lvl=eror msg=\"terminating with error\" obj=app err=\"authentication failed: Usage of ngrok requires a verified account and authtoken.\\n\\nSign up for an account: https://dashboard.ngrok.com/signup\\nInstall your authtoken: https://dashboard.ngrok.com/get-started/your-authtoken\\r\\n\\r\\nERR_NGROK_4018\\r\\n\"\n",
            "t=2025-01-08T10:19:38+0000 lvl=crit msg=\"command failed\" err=\"authentication failed: Usage of ngrok requires a verified account and authtoken.\\n\\nSign up for an account: https://dashboard.ngrok.com/signup\\nInstall your authtoken: https://dashboard.ngrok.com/get-started/your-authtoken\\r\\n\\r\\nERR_NGROK_4018\\r\\n\"\n",
            "Traceback (most recent call last):\n",
            "  File \"/content/my_flask_project/emap_v1-main/flaskr/__init__.py\", line 45, in <module>\n",
            "    app = create_app()\n",
            "  File \"/content/my_flask_project/emap_v1-main/flaskr/__init__.py\", line 27, in create_app\n",
            "    from flaskr import db\n",
            "  File \"/content/my_flask_project/emap_v1-main/flaskr/__init__.py\", line 45, in <module>\n",
            "    app = create_app()\n",
            "  File \"/content/my_flask_project/emap_v1-main/flaskr/__init__.py\", line 39, in create_app\n",
            "    public_url = ngrok.connect(5000)\n",
            "  File \"/usr/local/lib/python3.10/dist-packages/pyngrok/ngrok.py\", line 331, in connect\n",
            "    api_url = get_ngrok_process(pyngrok_config).api_url\n",
            "  File \"/usr/local/lib/python3.10/dist-packages/pyngrok/ngrok.py\", line 156, in get_ngrok_process\n",
            "    return process.get_process(pyngrok_config)\n",
            "  File \"/usr/local/lib/python3.10/dist-packages/pyngrok/process.py\", line 235, in get_process\n",
            "    return _start_process(pyngrok_config)\n",
            "  File \"/usr/local/lib/python3.10/dist-packages/pyngrok/process.py\", line 398, in _start_process\n",
            "    raise PyngrokNgrokError(f\"The ngrok process errored on start: {ngrok_process.startup_error}.\",\n",
            "pyngrok.exception.PyngrokNgrokError: The ngrok process errored on start: authentication failed: Usage of ngrok requires a verified account and authtoken.\\n\\nSign up for an account: https://dashboard.ngrok.com/signup\\nInstall your authtoken: https://dashboard.ngrok.com/get-started/your-authtoken\\r\\n\\r\\nERR_NGROK_4018\\r\\n.\n"
          ]
        }
      ]
    }
  ],
  "metadata": {
    "language_info": {
      "name": "python"
    },
    "colab": {
      "provenance": []
    },
    "kernelspec": {
      "name": "python3",
      "display_name": "Python 3"
    }
  },
  "nbformat": 4,
  "nbformat_minor": 0
}